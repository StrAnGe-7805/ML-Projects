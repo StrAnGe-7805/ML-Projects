{
 "cells": [
  {
   "cell_type": "code",
   "execution_count": 1,
   "metadata": {},
   "outputs": [],
   "source": [
    "import os\n",
    "import aiml\n",
    "import webbrowser"
   ]
  },
  {
   "cell_type": "code",
   "execution_count": 2,
   "metadata": {},
   "outputs": [
    {
     "output_type": "stream",
     "name": "stdout",
     "text": "Loading std-startup.aiml...done (0.01 seconds)\nLoading instructions.aiml...done (0.00 seconds)\nLoading funtalk.aiml...done (0.00 seconds)\nLoading aboutuser.aiml...done (0.00 seconds)\n\nKernel bootstrap completed in 0.03 seconds\n"
    }
   ],
   "source": [
    "k = aiml.Kernel()\n",
    "k.bootstrap(learnFiles=\"std-startup.aiml\",commands=\"load aiml b\")"
   ]
  },
  {
   "cell_type": "code",
   "execution_count": 163,
   "metadata": {},
   "outputs": [
    {
     "output_type": "stream",
     "name": "stdout",
     "text": "Boy complains to his father: You told me to put a potato in my swimming trunks!\n You said it would impress the girls at the pool! But you forgot to mention one thing!\n Father: Really, what?\n Boy: That the potato should go in the front.\nKnock Knock.\nNana\nNana your business.\n"
    }
   ],
   "source": [
    "while True:\n",
    "    text = input(\"> \")\n",
    "    print(\"USER : \"+ text)\n",
    "    input_text = text\n",
    "    input_text = input_text.lower()\n",
    "    if(input_text == \"quit\"):\n",
    "        break\n",
    "    elif \"search\" in input_text:\n",
    "        for i in range(len(input_text.split())):\n",
    "            if(input_text.split()[i] == \"search\"):\n",
    "                if(input_text.split()[i+1] == \"for\"):\n",
    "                    query = input_text.split()[i+2]\n",
    "                    for j in range(i+3,len(input_text.split())):\n",
    "                        query = query + \"+\" + input_text.split()[j]\n",
    "                    break\n",
    "                else:\n",
    "                    query = input_text.split()[i+1]\n",
    "                    for j in range(i+2,len(input_text.split())):\n",
    "                        query = query + \"+\" + input_text.split()[j]\n",
    "                    break\n",
    "        webbrowser.open(\"https://www.google.co.in/search?client=safari&channel=iphone_bm&sxsrf=ALeKk00Ns6Y6v7Kfi0KyEgRTtOvJBafTEQ:1586951172382&ei=BPSWXvn5FtSC4-EPhYWtuA8&q=\"+query+\"&oq=\"+query+\"&gs_lcp=CgZwc3ktYWIQAzIECAAQRzIECAAQRzIECAAQRzIECAAQRzIECAAQRzIECAAQRzIECAAQRzIECAAQR0oICBcSBDEwLTdKCAgYEgQxMC0yUABYAGDjnQRoAHACeACAAQCIAQCSAQCYAQCqAQdnd3Mtd2l6&sclient=psy-ab&ved=0ahUKEwj5i5_nreroAhVUwTgGHYVCC_cQ4dUDCAs&uact=5&safari_group=9\")\n",
    "    elif \"open\" in input_text:\n",
    "        for i in range(len(input_text.split())):\n",
    "            if(input_text.split()[i] == \"open\"):\n",
    "                app = text.split()[i+1]\n",
    "                for j in range(i+2,len(input_text.split())):\n",
    "                    app = app + \" \" + text.split()[j]\n",
    "                break\n",
    "        d = \"/Applications\"\n",
    "        apps = list(map(lambda x: x.split('.app')[0], os.listdir(d)))\n",
    "        if app in apps:\n",
    "            os.system('open ' +d+'/%s.app' %app.replace(' ','\\ '))\n",
    "        else:\n",
    "            flag = 0\n",
    "            for x in apps:\n",
    "                if(app.lower() == x.lower()):\n",
    "                    flag = 1\n",
    "                    app = x\n",
    "                    os.system('open ' +d+'/%s.app' %app.replace(' ','\\ '))\n",
    "                    break\n",
    "            if(flag == 0):\n",
    "                print(\"Sorry amigo , unable to find the Application\")\n",
    "    else:\n",
    "        response = k.respond(input_text)\n",
    "        out = \"BOT : \"\n",
    "        for i in range(len(response)):\n",
    "            if(response[i] == '/'):\n",
    "                print(out)\n",
    "                out = \"\"\n",
    "            else:\n",
    "                out = out + response[i]\n",
    "        print(out)\n",
    "        if(response == \"I don't understand , If you want i can search the web\"):\n",
    "            print(\"1 : Yes\")\n",
    "            print(\"2 : No\")\n",
    "            check = input(\"> \")\n",
    "            if(check == '1' or check == 'Yes' or check == 'yes'):\n",
    "                query = \"\"\n",
    "                for x in input_text.split():\n",
    "                    if query == \"\":\n",
    "                        query = x\n",
    "                    else:\n",
    "                        query = query + \"+\" + x\n",
    "                webbrowser.open(\"https://www.google.co.in/search?client=safari&channel=iphone_bm&sxsrf=ALeKk00Ns6Y6v7Kfi0KyEgRTtOvJBafTEQ:1586951172382&ei=BPSWXvn5FtSC4-EPhYWtuA8&q=\"+query+\"&oq=\"+query+\"&gs_lcp=CgZwc3ktYWIQAzIECAAQRzIECAAQRzIECAAQRzIECAAQRzIECAAQRzIECAAQRzIECAAQRzIECAAQR0oICBcSBDEwLTdKCAgYEgQxMC0yUABYAGDjnQRoAHACeACAAQCIAQCSAQCYAQCqAQdnd3Mtd2l6&sclient=psy-ab&ved=0ahUKEwj5i5_nreroAhVUwTgGHYVCC_cQ4dUDCAs&uact=5&safari_group=9\")\n"
   ]
  },
  {
   "cell_type": "code",
   "execution_count": 4,
   "metadata": {},
   "outputs": [
    {
     "output_type": "stream",
     "name": "stdout",
     "text": "c\n"
    }
   ],
   "source": []
  },
  {
   "cell_type": "code",
   "execution_count": null,
   "metadata": {},
   "outputs": [],
   "source": []
  }
 ],
 "metadata": {
  "language_info": {
   "name": "python",
   "codemirror_mode": {
    "name": "ipython",
    "version": 3
   },
   "version": "3.7.7-final"
  },
  "orig_nbformat": 2,
  "file_extension": ".py",
  "mimetype": "text/x-python",
  "name": "python",
  "npconvert_exporter": "python",
  "pygments_lexer": "ipython3",
  "version": 3,
  "kernelspec": {
   "name": "python37764bit82a99759a9bc43759387fd87aa809f13",
   "display_name": "Python 3.7.7 64-bit"
  }
 },
 "nbformat": 4,
 "nbformat_minor": 2
}