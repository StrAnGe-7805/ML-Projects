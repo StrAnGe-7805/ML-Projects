{
 "nbformat": 4,
 "nbformat_minor": 2,
 "metadata": {
  "language_info": {
   "name": "python",
   "codemirror_mode": {
    "name": "ipython",
    "version": 3
   },
   "version": "3.7.7-final"
  },
  "orig_nbformat": 2,
  "file_extension": ".py",
  "mimetype": "text/x-python",
  "name": "python",
  "npconvert_exporter": "python",
  "pygments_lexer": "ipython3",
  "version": 3,
  "kernelspec": {
   "name": "python37764bit82a99759a9bc43759387fd87aa809f13",
   "display_name": "Python 3.7.7 64-bit"
  }
 },
 "cells": [
  {
   "cell_type": "code",
   "execution_count": 2,
   "metadata": {},
   "outputs": [
    {
     "output_type": "stream",
     "name": "stdout",
     "text": "Requirement already satisfied: nltk in /Library/Frameworks/Python.framework/Versions/3.7/lib/python3.7/site-packages (3.4.5)\nRequirement already satisfied: six in /Library/Frameworks/Python.framework/Versions/3.7/lib/python3.7/site-packages (from nltk) (1.14.0)\nNote: you may need to restart the kernel to use updated packages.\n"
    }
   ],
   "source": [
    "pip install nltk"
   ]
  },
  {
   "cell_type": "code",
   "execution_count": 2,
   "metadata": {},
   "outputs": [
    {
     "output_type": "stream",
     "name": "stdout",
     "text": "Requirement already satisfied: newspaper3k in /Library/Frameworks/Python.framework/Versions/3.7/lib/python3.7/site-packages (0.2.8)\nRequirement already satisfied: requests>=2.10.0 in /Library/Frameworks/Python.framework/Versions/3.7/lib/python3.7/site-packages (from newspaper3k) (2.23.0)\nRequirement already satisfied: lxml>=3.6.0 in /Library/Frameworks/Python.framework/Versions/3.7/lib/python3.7/site-packages (from newspaper3k) (4.5.0)\nRequirement already satisfied: jieba3k>=0.35.1 in /Library/Frameworks/Python.framework/Versions/3.7/lib/python3.7/site-packages (from newspaper3k) (0.35.1)\nRequirement already satisfied: python-dateutil>=2.5.3 in /Library/Frameworks/Python.framework/Versions/3.7/lib/python3.7/site-packages (from newspaper3k) (2.8.1)\nRequirement already satisfied: nltk>=3.2.1 in /Library/Frameworks/Python.framework/Versions/3.7/lib/python3.7/site-packages (from newspaper3k) (3.4.5)\nRequirement already satisfied: feedparser>=5.2.1 in /Library/Frameworks/Python.framework/Versions/3.7/lib/python3.7/site-packages (from newspaper3k) (5.2.1)\nRequirement already satisfied: feedfinder2>=0.0.4 in /Library/Frameworks/Python.framework/Versions/3.7/lib/python3.7/site-packages (from newspaper3k) (0.0.4)\nRequirement already satisfied: Pillow>=3.3.0 in /Library/Frameworks/Python.framework/Versions/3.7/lib/python3.7/site-packages (from newspaper3k) (7.0.0)\nRequirement already satisfied: tldextract>=2.0.1 in /Library/Frameworks/Python.framework/Versions/3.7/lib/python3.7/site-packages (from newspaper3k) (2.2.2)\nRequirement already satisfied: tinysegmenter==0.3 in /Library/Frameworks/Python.framework/Versions/3.7/lib/python3.7/site-packages (from newspaper3k) (0.3)\nRequirement already satisfied: PyYAML>=3.11 in /Library/Frameworks/Python.framework/Versions/3.7/lib/python3.7/site-packages (from newspaper3k) (5.3.1)\nRequirement already satisfied: cssselect>=0.9.2 in /Library/Frameworks/Python.framework/Versions/3.7/lib/python3.7/site-packages (from newspaper3k) (1.1.0)\nRequirement already satisfied: beautifulsoup4>=4.4.1 in /Library/Frameworks/Python.framework/Versions/3.7/lib/python3.7/site-packages (from newspaper3k) (4.9.0)\nRequirement already satisfied: urllib3!=1.25.0,!=1.25.1,<1.26,>=1.21.1 in /Library/Frameworks/Python.framework/Versions/3.7/lib/python3.7/site-packages (from requests>=2.10.0->newspaper3k) (1.25.8)\nRequirement already satisfied: idna<3,>=2.5 in /Library/Frameworks/Python.framework/Versions/3.7/lib/python3.7/site-packages (from requests>=2.10.0->newspaper3k) (2.9)\nRequirement already satisfied: certifi>=2017.4.17 in /Library/Frameworks/Python.framework/Versions/3.7/lib/python3.7/site-packages (from requests>=2.10.0->newspaper3k) (2020.4.5.1)\nRequirement already satisfied: chardet<4,>=3.0.2 in /Library/Frameworks/Python.framework/Versions/3.7/lib/python3.7/site-packages (from requests>=2.10.0->newspaper3k) (3.0.4)\nRequirement already satisfied: six>=1.5 in /Library/Frameworks/Python.framework/Versions/3.7/lib/python3.7/site-packages (from python-dateutil>=2.5.3->newspaper3k) (1.14.0)\nRequirement already satisfied: requests-file>=1.4 in /Library/Frameworks/Python.framework/Versions/3.7/lib/python3.7/site-packages (from tldextract>=2.0.1->newspaper3k) (1.4.3)\nRequirement already satisfied: setuptools in /Library/Frameworks/Python.framework/Versions/3.7/lib/python3.7/site-packages (from tldextract>=2.0.1->newspaper3k) (46.1.3)\nRequirement already satisfied: soupsieve>1.2 in /Library/Frameworks/Python.framework/Versions/3.7/lib/python3.7/site-packages (from beautifulsoup4>=4.4.1->newspaper3k) (2.0)\nNote: you may need to restart the kernel to use updated packages.\n"
    }
   ],
   "source": [
    "pip install newspaper3k"
   ]
  },
  {
   "cell_type": "code",
   "execution_count": 3,
   "metadata": {},
   "outputs": [],
   "source": [
    "from newspaper import Article\n",
    "import random\n",
    "import string\n",
    "from sklearn.feature_extraction.text import TfidfVectorizer\n",
    "from sklearn.metrics.pairwise import cosine_similarity\n",
    "import nltk\n",
    "import numpy as np\n",
    "import warnings"
   ]
  },
  {
   "cell_type": "code",
   "execution_count": 4,
   "metadata": {},
   "outputs": [],
   "source": [
    "warnings.filterwarnings('ignore')"
   ]
  },
  {
   "cell_type": "code",
   "execution_count": 6,
   "metadata": {},
   "outputs": [
    {
     "output_type": "execute_result",
     "data": {
      "text/plain": "True"
     },
     "metadata": {},
     "execution_count": 6
    }
   ],
   "source": [
    "nltk.download('punkt' , quiet=True)\n",
    "nltk.download('wordnet',quiet=True)"
   ]
  },
  {
   "cell_type": "code",
   "execution_count": 48,
   "metadata": {},
   "outputs": [],
   "source": [
    "article = Article('https://en.wikipedia.org/wiki/Artificial_intelligence')\n",
    "article.download()\n",
    "article.parse()\n",
    "article.nlp()\n",
    "corpus = article.text\n",
    "\n",
    "#print(corpus)"
   ]
  },
  {
   "cell_type": "code",
   "execution_count": 49,
   "metadata": {},
   "outputs": [],
   "source": [
    "text = corpus\n",
    "sent_tokens = nltk.sent_tokenize(text)\n",
    "\n",
    "#print(sent_tokens)"
   ]
  },
  {
   "cell_type": "code",
   "execution_count": 50,
   "metadata": {},
   "outputs": [],
   "source": [
    "#Dictionary to remove puntuations\n",
    "remove_punct_dict = dict( (ord(punct),None) for punct in string.punctuation )\n",
    "\n",
    "#print(remove_punct_dict)"
   ]
  },
  {
   "cell_type": "code",
   "execution_count": 51,
   "metadata": {},
   "outputs": [],
   "source": [
    "# function to lemmatize the lowercase words\n",
    "def LemNormalize(text):\n",
    "    return nltk.word_tokenize(text.lower().translate(remove_punct_dict))\n",
    "\n",
    "#print(LemNormalize(text))"
   ]
  },
  {
   "cell_type": "code",
   "execution_count": 52,
   "metadata": {},
   "outputs": [],
   "source": [
    "# keyword matching\n",
    "\n",
    "Greeting_Inputs = [\"hi\",\"hello\",\"hola\",\"greetings\",\"wassup\",\"hey\"]\n",
    "\n",
    "Greeting_Responses = [\"howdy\",\"hi\",\"hey\",\"what's good\",\"hey there\"]\n",
    "\n",
    "def Greeting(sentence):\n",
    "    for word in sentence.split():\n",
    "        if word.lower() in Greeting_Inputs:\n",
    "            return random.choice(Greeting_Responses)\n",
    ""
   ]
  },
  {
   "cell_type": "code",
   "execution_count": 54,
   "metadata": {},
   "outputs": [],
   "source": [
    "def response(user_response):\n",
    "    \n",
    "    robo_response = ''\n",
    "\n",
    "    sent_tokens.append(user_response)\n",
    "\n",
    "    Tfidfvec = TfidfVectorizer(tokenizer=LemNormalize,stop_words='english')\n",
    "\n",
    "    tfidf = Tfidfvec.fit_transform(sent_tokens)\n",
    "\n",
    "    vals = cosine_similarity(tfidf[-1],tfidf)\n",
    "    #print(vals)\n",
    "    idx = vals.argsort()[0][-2]\n",
    "\n",
    "    flat = vals.flatten()\n",
    "\n",
    "    flat.sort()\n",
    "\n",
    "    score = flat[-2]\n",
    "\n",
    "    if(score == 0):\n",
    "        robo_response = robo_response + \"I dont understand\"\n",
    "    else:\n",
    "        robo_response = robo_response + sent_tokens[idx]\n",
    "\n",
    "    sent_tokens.remove(user_response)\n",
    "\n",
    "    return robo_response\n",
    ""
   ]
  },
  {
   "cell_type": "code",
   "execution_count": 56,
   "metadata": {},
   "outputs": [
    {
     "output_type": "stream",
     "name": "stdout",
     "text": "A.L.I.C.E : I dont understand\nA.L.I.C.E : I dont understand\nA.L.I.C.E : I dont understand\nA.L.I.C.E : I dont understand\nA.L.I.C.E : chat with u later :) \n"
    }
   ],
   "source": [
    "flag = True\n",
    "while(flag == True):\n",
    "    user_response = input('> ')\n",
    "    user_response = user_response.lower()\n",
    "    if(user_response == 'bye'):\n",
    "        flag = False\n",
    "        print('A.L.I.C.E : chat with u later :) ')\n",
    "    else:\n",
    "        if(user_response == 'thanks' or user_response == 'thank you'):\n",
    "            print('A.L.I.C.E : u r welcome !')\n",
    "            flag = False\n",
    "        else:\n",
    "            if(Greeting(user_response) != None):\n",
    "                print('A.L.I.C.E : '+Greeting(user_response))\n",
    "            else:\n",
    "                print('A.L.I.C.E : '+response(user_response))"
   ]
  },
  {
   "cell_type": "code",
   "execution_count": null,
   "metadata": {},
   "outputs": [],
   "source": []
  }
 ]
}